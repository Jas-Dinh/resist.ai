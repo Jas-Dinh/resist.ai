{
 "cells": [
  {
   "cell_type": "code",
   "execution_count": 5,
   "metadata": {
    "id": "Ua4PPGv5rODd"
   },
   "outputs": [],
   "source": [
    "import zipfile\n",
    "import os\n",
    "import numpy as np\n",
    "import pandas as pd\n",
    "pd.set_option('display.float_format', lambda x: '%.3f' % x)\n",
    "import boto3\n",
    "import pandas as pd\n",
    "from io import BytesIO\n",
    "from io import StringIO"
   ]
  },
  {
   "cell_type": "code",
   "execution_count": 6,
   "metadata": {},
   "outputs": [],
   "source": [
    "# Initialize S3 client\n",
    "s3 = boto3.client('s3')\n",
    "\n",
    "# Function to load data \n",
    "bucket_name = 'ml-stack-759578648427-us-west-2'\n",
    "\n",
    "def from_s3(bucket_name, file_name):\n",
    "    response = s3.get_object(Bucket=bucket_name, Key=file_name)\n",
    "    ext = os.path.splitext(file_name)[1]\n",
    "    if ext == '.gz':\n",
    "        data = pd.read_csv(BytesIO(response['Body'].read()), compression='gzip')\n",
    "    elif ext == '.csv':\n",
    "        data = pd.read_csv(BytesIO(response['Body'].read()))\n",
    "    else:\n",
    "        data = pd.read_excel(BytesIO(response['Body'].read()), sheet_name='DX_to_CCSR_Mapping', header=1)\n",
    "    return data"
   ]
  },
  {
   "cell_type": "markdown",
   "metadata": {
    "id": "99miS8vS42p4"
   },
   "source": [
    "# Diagnosis Mapping\n",
    "\n",
    "Use ICD 9 to 10 crosswalk from: https://github.com/JeanNikiema/mimicinicd11/tree/main\n",
    "\n",
    "Use broad category map from: https://hcup-us.ahrq.gov/toolssoftware/ccsr/dxccsr.jsp"
   ]
  },
  {
   "cell_type": "code",
   "execution_count": 7,
   "metadata": {},
   "outputs": [
    {
     "name": "stderr",
     "output_type": "stream",
     "text": [
      "/tmp/ipykernel_4660/943974513.py:25: SettingWithCopyWarning: \n",
      "A value is trying to be set on a copy of a slice from a DataFrame\n",
      "\n",
      "See the caveats in the documentation: https://pandas.pydata.org/pandas-docs/stable/user_guide/indexing.html#returning-a-view-versus-a-copy\n",
      "  icd9_to10_left.drop(columns=['icd9cm', 'icd10cm'], axis=1, inplace=True)\n",
      "/tmp/ipykernel_4660/943974513.py:29: FutureWarning: A value is trying to be set on a copy of a DataFrame or Series through chained assignment using an inplace method.\n",
      "The behavior will change in pandas 3.0. This inplace method will never work because the intermediate object on which we are setting values always behaves as a copy.\n",
      "\n",
      "For example, when doing 'df[col].method(value, inplace=True)', try using 'df.method({col: value}, inplace=True)' or df[col] = df[col].method(value) instead, to perform the operation inplace on the original object.\n",
      "\n",
      "\n",
      "  icd10_to10['icd10cm'].fillna(icd10_to10['icd_code'], inplace=True)\n"
     ]
    },
    {
     "data": {
      "text/html": [
       "<div>\n",
       "<style scoped>\n",
       "    .dataframe tbody tr th:only-of-type {\n",
       "        vertical-align: middle;\n",
       "    }\n",
       "\n",
       "    .dataframe tbody tr th {\n",
       "        vertical-align: top;\n",
       "    }\n",
       "\n",
       "    .dataframe thead th {\n",
       "        text-align: right;\n",
       "    }\n",
       "</style>\n",
       "<table border=\"1\" class=\"dataframe\">\n",
       "  <thead>\n",
       "    <tr style=\"text-align: right;\">\n",
       "      <th></th>\n",
       "      <th>icd_code</th>\n",
       "      <th>icd_version</th>\n",
       "      <th>long_title</th>\n",
       "      <th>icd9cm</th>\n",
       "      <th>icd10cm</th>\n",
       "      <th>ccsr_category</th>\n",
       "      <th>ccsr_category_description</th>\n",
       "    </tr>\n",
       "  </thead>\n",
       "  <tbody>\n",
       "    <tr>\n",
       "      <th>0</th>\n",
       "      <td>0010</td>\n",
       "      <td>9</td>\n",
       "      <td>Cholera due to vibrio cholerae</td>\n",
       "      <td>0010</td>\n",
       "      <td>A000</td>\n",
       "      <td>DIG001</td>\n",
       "      <td>Intestinal infection</td>\n",
       "    </tr>\n",
       "    <tr>\n",
       "      <th>1</th>\n",
       "      <td>0010</td>\n",
       "      <td>9</td>\n",
       "      <td>Cholera due to vibrio cholerae</td>\n",
       "      <td>0010</td>\n",
       "      <td>A000</td>\n",
       "      <td>INF003</td>\n",
       "      <td>Bacterial infections</td>\n",
       "    </tr>\n",
       "    <tr>\n",
       "      <th>2</th>\n",
       "      <td>0011</td>\n",
       "      <td>9</td>\n",
       "      <td>Cholera due to vibrio cholerae el tor</td>\n",
       "      <td>0011</td>\n",
       "      <td>A001</td>\n",
       "      <td>DIG001</td>\n",
       "      <td>Intestinal infection</td>\n",
       "    </tr>\n",
       "    <tr>\n",
       "      <th>3</th>\n",
       "      <td>0011</td>\n",
       "      <td>9</td>\n",
       "      <td>Cholera due to vibrio cholerae el tor</td>\n",
       "      <td>0011</td>\n",
       "      <td>A001</td>\n",
       "      <td>INF003</td>\n",
       "      <td>Bacterial infections</td>\n",
       "    </tr>\n",
       "    <tr>\n",
       "      <th>4</th>\n",
       "      <td>0019</td>\n",
       "      <td>9</td>\n",
       "      <td>Cholera, unspecified</td>\n",
       "      <td>0019</td>\n",
       "      <td>A009</td>\n",
       "      <td>DIG001</td>\n",
       "      <td>Intestinal infection</td>\n",
       "    </tr>\n",
       "  </tbody>\n",
       "</table>\n",
       "</div>"
      ],
      "text/plain": [
       "  icd_code  icd_version                             long_title icd9cm icd10cm  \\\n",
       "0     0010            9         Cholera due to vibrio cholerae   0010    A000   \n",
       "1     0010            9         Cholera due to vibrio cholerae   0010    A000   \n",
       "2     0011            9  Cholera due to vibrio cholerae el tor   0011    A001   \n",
       "3     0011            9  Cholera due to vibrio cholerae el tor   0011    A001   \n",
       "4     0019            9                   Cholera, unspecified   0019    A009   \n",
       "\n",
       "  ccsr_category ccsr_category_description  \n",
       "0        DIG001      Intestinal infection  \n",
       "1        INF003      Bacterial infections  \n",
       "2        DIG001      Intestinal infection  \n",
       "3        INF003      Bacterial infections  \n",
       "4        DIG001      Intestinal infection  "
      ]
     },
     "execution_count": 7,
     "metadata": {},
     "output_type": "execute_result"
    }
   ],
   "source": [
    "file_name = 'MIMIC/d_icd_diagnoses.csv.gz'\n",
    "icd_diagnoses = from_s3(bucket_name, file_name) \n",
    "\n",
    "# Load the ICD-9 to ICD-10 mapping using the GEM\n",
    "file_name = 'MIMIC/icd9toicd10cmgem.csv'\n",
    "map_gem = from_s3(bucket_name, file_name) \n",
    "map_gem = map_gem[map_gem['icd10cm'] != \"NoDx\"][['icd9cm', 'icd10cm']]\n",
    "\n",
    "# Load manually matched codes for \"NoDx\"\n",
    "nodx_match = 'MIMIC/nodx_code.csv'\n",
    "nodx_match = from_s3(bucket_name, file_name) \n",
    "nodx_match['Maptype'] = \"manual matching\"\n",
    "nodx_match = nodx_match[['icd9cm', 'icd10cm']]\n",
    "nodx_match['icd10cm'] = nodx_match['icd10cm'].str.replace('.', '')\n",
    "\n",
    "# seperate versions\n",
    "icd_d9 = icd_diagnoses[icd_diagnoses.icd_version == 9]\n",
    "icd_d10 = icd_diagnoses[icd_diagnoses.icd_version == 10]\n",
    "\n",
    "# map codes\n",
    "icd9_to10 = pd.merge(icd_d9, map_gem, left_on='icd_code', right_on='icd9cm', how='left')\n",
    "icd_to10_complete = icd9_to10[~icd9_to10['icd10cm'].isna()]\n",
    "\n",
    "icd9_to10_left = icd9_to10[icd9_to10['icd10cm'].isna()]\n",
    "icd9_to10_left.drop(columns=['icd9cm', 'icd10cm'], axis=1, inplace=True)\n",
    "icd9_to10_left = icd9_to10_left.merge(nodx_match, left_on='icd_code', right_on='icd9cm', how='left')\n",
    "\n",
    "icd10_to10 = pd.merge(icd_d10, map_gem, left_on='icd_code', right_on='icd10cm', how='left')\n",
    "icd10_to10['icd10cm'].fillna(icd10_to10['icd_code'], inplace=True)\n",
    "map_gem = pd.concat([icd_to10_complete, icd9_to10_left, icd10_to10], axis=0)\n",
    "map_gem.drop_duplicates(inplace=True)\n",
    "\n",
    "# load in CCSR map\n",
    "file_name = 'MIMIC/DXCCSR-Reference-File-v2025-1.xlsx'\n",
    "ccsr_map = from_s3(bucket_name, file_name) \n",
    "ccsr_map.columns = ccsr_map.columns.str.lower().str.replace(' ', '_')\n",
    "ccsr_map = ccsr_map[['icd-10-cm_code', 'ccsr_category', 'ccsr_category_description']]\n",
    "\n",
    "# final mapping\n",
    "icd_code_map = map_gem.merge(ccsr_map, left_on='icd10cm', right_on='icd-10-cm_code', how='left').drop(columns=['icd-10-cm_code'], axis=1)\n",
    "icd_code_map = icd_code_map[~icd_code_map.icd10cm.isna()]\n",
    "del icd_diagnoses, map_gem, nodx_match, ccsr_map, icd_d9, icd_d10, icd9_to10, icd_to10_complete, icd9_to10_left, icd10_to10\n",
    "icd_code_map.head()"
   ]
  },
  {
   "cell_type": "markdown",
   "metadata": {},
   "source": [
    "# Export to S3"
   ]
  },
  {
   "cell_type": "code",
   "execution_count": 4,
   "metadata": {},
   "outputs": [
    {
     "name": "stdout",
     "output_type": "stream",
     "text": [
      "DataFrame successfully exported to s3://ml-stack-759578648427-us-west-2/MIMIC/Cleaned/icd_code_map.csv\n"
     ]
    }
   ],
   "source": [
    "s3_key = 'MIMIC/Cleaned/icd_code_map.csv'\n",
    "\n",
    "# Save the DataFrame to a CSV in memory (using StringIO)\n",
    "csv_buffer = StringIO()\n",
    "icd_code_map.to_csv(csv_buffer, index=False)\n",
    "\n",
    "# Upload the CSV data to S3\n",
    "s3.put_object(Bucket=bucket_name, Key=s3_key, Body=csv_buffer.getvalue())\n",
    "\n",
    "print(f\"DataFrame successfully exported to s3://{bucket_name}/{s3_key}\")"
   ]
  }
 ],
 "metadata": {
  "colab": {
   "collapsed_sections": [
    "ikBekIuPaa1z",
    "MLoeDOoUmOHi",
    "bLpdWEr8zF1V",
    "99miS8vS42p4",
    "8-djcqUTzJfx"
   ],
   "provenance": []
  },
  "kernelspec": {
   "display_name": "Python 3 (ipykernel)",
   "language": "python",
   "name": "python3"
  },
  "language_info": {
   "codemirror_mode": {
    "name": "ipython",
    "version": 3
   },
   "file_extension": ".py",
   "mimetype": "text/x-python",
   "name": "python",
   "nbconvert_exporter": "python",
   "pygments_lexer": "ipython3",
   "version": "3.11.11"
  }
 },
 "nbformat": 4,
 "nbformat_minor": 0
}
