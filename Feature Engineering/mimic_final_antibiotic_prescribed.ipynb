{
 "cells": [
  {
   "cell_type": "code",
   "execution_count": 1,
   "metadata": {
    "id": "Ua4PPGv5rODd"
   },
   "outputs": [],
   "source": [
    "import zipfile\n",
    "import os\n",
    "import numpy as np\n",
    "import pandas as pd\n",
    "pd.set_option('display.float_format', lambda x: '%.3f' % x)\n",
    "import boto3\n",
    "import pandas as pd\n",
    "from io import BytesIO\n",
    "from io import StringIO\n",
    "import json\n",
    "import requests "
   ]
  },
  {
   "cell_type": "code",
   "execution_count": 2,
   "metadata": {},
   "outputs": [],
   "source": [
    "# Initialize S3 client\n",
    "s3 = boto3.client('s3')\n",
    "\n",
    "# Function to load data \n",
    "bucket_name = 'ml-stack-759578648427-us-west-2'\n",
    "\n",
    "def from_s3(bucket_name, file_name):\n",
    "    response = s3.get_object(Bucket=bucket_name, Key=file_name)\n",
    "    ext = os.path.splitext(file_name)[1]\n",
    "    if ext == '.gz':\n",
    "        data = pd.read_csv(BytesIO(response['Body'].read()), compression='gzip')\n",
    "    elif ext == '.csv':\n",
    "        data = pd.read_csv(BytesIO(response['Body'].read()))\n",
    "    else:\n",
    "        data = pd.read_excel(BytesIO(response['Body'].read()), sheet_name='DX_to_CCSR_Mapping', header=1)\n",
    "    return data"
   ]
  },
  {
   "cell_type": "markdown",
   "metadata": {
    "id": "ZVbTgBmYfZxT"
   },
   "source": [
    "# Import Modeling Set"
   ]
  },
  {
   "cell_type": "code",
   "execution_count": 3,
   "metadata": {},
   "outputs": [
    {
     "data": {
      "text/html": [
       "<div>\n",
       "<style scoped>\n",
       "    .dataframe tbody tr th:only-of-type {\n",
       "        vertical-align: middle;\n",
       "    }\n",
       "\n",
       "    .dataframe tbody tr th {\n",
       "        vertical-align: top;\n",
       "    }\n",
       "\n",
       "    .dataframe thead th {\n",
       "        text-align: right;\n",
       "    }\n",
       "</style>\n",
       "<table border=\"1\" class=\"dataframe\">\n",
       "  <thead>\n",
       "    <tr style=\"text-align: right;\">\n",
       "      <th></th>\n",
       "      <th>subject_id</th>\n",
       "      <th>charttime</th>\n",
       "    </tr>\n",
       "  </thead>\n",
       "  <tbody>\n",
       "    <tr>\n",
       "      <th>0</th>\n",
       "      <td>10000826</td>\n",
       "      <td>2146-12-08 22:22:00</td>\n",
       "    </tr>\n",
       "    <tr>\n",
       "      <th>1</th>\n",
       "      <td>10000898</td>\n",
       "      <td>2187-09-26 08:00:00</td>\n",
       "    </tr>\n",
       "    <tr>\n",
       "      <th>2</th>\n",
       "      <td>10000980</td>\n",
       "      <td>2185-10-24 00:00:00</td>\n",
       "    </tr>\n",
       "    <tr>\n",
       "      <th>3</th>\n",
       "      <td>10001122</td>\n",
       "      <td>2142-04-08 10:48:00</td>\n",
       "    </tr>\n",
       "    <tr>\n",
       "      <th>4</th>\n",
       "      <td>10001401</td>\n",
       "      <td>2134-10-09 13:45:00</td>\n",
       "    </tr>\n",
       "  </tbody>\n",
       "</table>\n",
       "</div>"
      ],
      "text/plain": [
       "   subject_id           charttime\n",
       "0    10000826 2146-12-08 22:22:00\n",
       "1    10000898 2187-09-26 08:00:00\n",
       "2    10000980 2185-10-24 00:00:00\n",
       "3    10001122 2142-04-08 10:48:00\n",
       "4    10001401 2134-10-09 13:45:00"
      ]
     },
     "execution_count": 3,
     "metadata": {},
     "output_type": "execute_result"
    }
   ],
   "source": [
    "file_name = 'MIMIC/final_subject_charttime_df.csv.gz'\n",
    "df = from_s3(bucket_name, file_name) \n",
    "df['charttime'] = pd.to_datetime(df['charttime'])\n",
    "subjects = df['subject_id'].unique()\n",
    "df.head()"
   ]
  },
  {
   "cell_type": "markdown",
   "metadata": {
    "id": "R8hO-lUISqpn"
   },
   "source": [
    "# Pharmacy"
   ]
  },
  {
   "cell_type": "code",
   "execution_count": 63,
   "metadata": {},
   "outputs": [
    {
     "name": "stderr",
     "output_type": "stream",
     "text": [
      "/tmp/ipykernel_260/1980421374.py:11: DtypeWarning: Columns (16,18,24,26) have mixed types. Specify dtype option on import or set low_memory=False.\n",
      "  data = pd.read_csv(BytesIO(response['Body'].read()), compression='gzip')\n"
     ]
    }
   ],
   "source": [
    "file_name = 'MIMIC/pharmacy.csv.gz'\n",
    "pharm = from_s3(bucket_name, file_name) \n",
    "# filter subjects \n",
    "pharm = pharm[pharm['subject_id'].isin(subjects)]\n",
    "pharm = pharm[['subject_id', 'medication', 'entertime']].drop_duplicates().dropna()\n",
    "pharm.head()"
   ]
  },
  {
   "cell_type": "code",
   "execution_count": 134,
   "metadata": {},
   "outputs": [],
   "source": [
    "antibiotics = ['AMPICILLIN', 'AMPICILLIN/SULBACTAM', 'CEFAZOLIN', 'CEFEPIME', 'CEFTAZIDIME', 'CEFTRIAXONE', 'CIPROFLOXACIN', 'GENTAMICIN', 'MEROPENEM', \n",
    "               'NITROFURANTOIN', 'PIPERACILLIN', 'TOBRAMYCIN', 'TRIMETHOPRIM']\n",
    "pharm_anti = pharm[pharm.medication.str.contains('|'.join(antibiotics), case=False)]"
   ]
  },
  {
   "cell_type": "code",
   "execution_count": 135,
   "metadata": {},
   "outputs": [
    {
     "data": {
      "text/html": [
       "<div>\n",
       "<style scoped>\n",
       "    .dataframe tbody tr th:only-of-type {\n",
       "        vertical-align: middle;\n",
       "    }\n",
       "\n",
       "    .dataframe tbody tr th {\n",
       "        vertical-align: top;\n",
       "    }\n",
       "\n",
       "    .dataframe thead th {\n",
       "        text-align: right;\n",
       "    }\n",
       "</style>\n",
       "<table border=\"1\" class=\"dataframe\">\n",
       "  <thead>\n",
       "    <tr style=\"text-align: right;\">\n",
       "      <th></th>\n",
       "      <th>subject_id</th>\n",
       "      <th>charttime</th>\n",
       "      <th>medication</th>\n",
       "      <th>hours_to_prescribe</th>\n",
       "    </tr>\n",
       "  </thead>\n",
       "  <tbody>\n",
       "    <tr>\n",
       "      <th>1</th>\n",
       "      <td>10000826</td>\n",
       "      <td>2146-12-08 22:22:00</td>\n",
       "      <td>Ciprofloxacin HCl</td>\n",
       "      <td>11.162</td>\n",
       "    </tr>\n",
       "    <tr>\n",
       "      <th>10</th>\n",
       "      <td>10001401</td>\n",
       "      <td>2134-10-09 13:45:00</td>\n",
       "      <td>CefePIME</td>\n",
       "      <td>3.164</td>\n",
       "    </tr>\n",
       "    <tr>\n",
       "      <th>104</th>\n",
       "      <td>10002013</td>\n",
       "      <td>2165-11-23 06:38:00</td>\n",
       "      <td>CefePIME</td>\n",
       "      <td>13.546</td>\n",
       "    </tr>\n",
       "    <tr>\n",
       "      <th>127</th>\n",
       "      <td>10002114</td>\n",
       "      <td>2162-02-17 21:53:00</td>\n",
       "      <td>CefTRIAXone</td>\n",
       "      <td>2.187</td>\n",
       "    </tr>\n",
       "    <tr>\n",
       "      <th>129</th>\n",
       "      <td>10002131</td>\n",
       "      <td>2128-03-17 00:00:00</td>\n",
       "      <td>CeftriaXONE</td>\n",
       "      <td>34.376</td>\n",
       "    </tr>\n",
       "  </tbody>\n",
       "</table>\n",
       "</div>"
      ],
      "text/plain": [
       "     subject_id           charttime         medication  hours_to_prescribe\n",
       "1      10000826 2146-12-08 22:22:00  Ciprofloxacin HCl              11.162\n",
       "10     10001401 2134-10-09 13:45:00           CefePIME               3.164\n",
       "104    10002013 2165-11-23 06:38:00           CefePIME              13.546\n",
       "127    10002114 2162-02-17 21:53:00        CefTRIAXone               2.187\n",
       "129    10002131 2128-03-17 00:00:00        CeftriaXONE              34.376"
      ]
     },
     "execution_count": 135,
     "metadata": {},
     "output_type": "execute_result"
    }
   ],
   "source": [
    "# merge to df \n",
    "df_pharm = df.merge(pharm_anti, on='subject_id', how='left')\n",
    "df_pharm['entertime'] = pd.to_datetime(df_pharm['entertime'])\n",
    "df_pharm['hours_to_prescribe'] = (df_pharm.entertime - df_pharm.charttime).dt.total_seconds() / 3600\n",
    "df_pharm = df_pharm[(df_pharm.hours_to_prescribe > 0) & (df_pharm.hours_to_prescribe <= 72)]\n",
    "df_pharm.drop(columns=['entertime'], inplace=True)\n",
    "df_pharm = df_pharm.loc[df_pharm.groupby(['subject_id', 'charttime', 'medication'])['hours_to_prescribe'].idxmin()]\n",
    "df_pharm.head()"
   ]
  },
  {
   "cell_type": "code",
   "execution_count": 138,
   "metadata": {},
   "outputs": [
    {
     "data": {
      "text/html": [
       "<div>\n",
       "<style scoped>\n",
       "    .dataframe tbody tr th:only-of-type {\n",
       "        vertical-align: middle;\n",
       "    }\n",
       "\n",
       "    .dataframe tbody tr th {\n",
       "        vertical-align: top;\n",
       "    }\n",
       "\n",
       "    .dataframe thead th {\n",
       "        text-align: right;\n",
       "    }\n",
       "</style>\n",
       "<table border=\"1\" class=\"dataframe\">\n",
       "  <thead>\n",
       "    <tr style=\"text-align: right;\">\n",
       "      <th></th>\n",
       "      <th>subject_id</th>\n",
       "      <th>charttime</th>\n",
       "      <th>medication</th>\n",
       "      <th>hours_to_prescribe</th>\n",
       "      <th>ab_name_pr</th>\n",
       "    </tr>\n",
       "  </thead>\n",
       "  <tbody>\n",
       "    <tr>\n",
       "      <th>1</th>\n",
       "      <td>10000826</td>\n",
       "      <td>2146-12-08 22:22:00</td>\n",
       "      <td>Ciprofloxacin HCl</td>\n",
       "      <td>11.162</td>\n",
       "      <td>CIPROFLOXACIN</td>\n",
       "    </tr>\n",
       "    <tr>\n",
       "      <th>10</th>\n",
       "      <td>10001401</td>\n",
       "      <td>2134-10-09 13:45:00</td>\n",
       "      <td>CefePIME</td>\n",
       "      <td>3.164</td>\n",
       "      <td>CEFEPIME</td>\n",
       "    </tr>\n",
       "    <tr>\n",
       "      <th>104</th>\n",
       "      <td>10002013</td>\n",
       "      <td>2165-11-23 06:38:00</td>\n",
       "      <td>CefePIME</td>\n",
       "      <td>13.546</td>\n",
       "      <td>CEFEPIME</td>\n",
       "    </tr>\n",
       "    <tr>\n",
       "      <th>127</th>\n",
       "      <td>10002114</td>\n",
       "      <td>2162-02-17 21:53:00</td>\n",
       "      <td>CefTRIAXone</td>\n",
       "      <td>2.187</td>\n",
       "      <td>CEFTRIAXONE</td>\n",
       "    </tr>\n",
       "    <tr>\n",
       "      <th>129</th>\n",
       "      <td>10002131</td>\n",
       "      <td>2128-03-17 00:00:00</td>\n",
       "      <td>CeftriaXONE</td>\n",
       "      <td>34.376</td>\n",
       "      <td>CEFTRIAXONE</td>\n",
       "    </tr>\n",
       "  </tbody>\n",
       "</table>\n",
       "</div>"
      ],
      "text/plain": [
       "     subject_id           charttime         medication  hours_to_prescribe  \\\n",
       "1      10000826 2146-12-08 22:22:00  Ciprofloxacin HCl              11.162   \n",
       "10     10001401 2134-10-09 13:45:00           CefePIME               3.164   \n",
       "104    10002013 2165-11-23 06:38:00           CefePIME              13.546   \n",
       "127    10002114 2162-02-17 21:53:00        CefTRIAXone               2.187   \n",
       "129    10002131 2128-03-17 00:00:00        CeftriaXONE              34.376   \n",
       "\n",
       "        ab_name_pr  \n",
       "1    CIPROFLOXACIN  \n",
       "10        CEFEPIME  \n",
       "104       CEFEPIME  \n",
       "127    CEFTRIAXONE  \n",
       "129    CEFTRIAXONE  "
      ]
     },
     "execution_count": 138,
     "metadata": {},
     "output_type": "execute_result"
    }
   ],
   "source": [
    "#sorted(list(df_pharm.medication.unique()))\n",
    "ab_map = {\n",
    "\t'Ampicillin':'AMPICILLIN',\n",
    "\t 'Ampicillin Desensitization':'AMPICILLIN',\n",
    "\t 'Ampicillin Graded Challenge':'AMPICILLIN',\n",
    "\t 'Ampicillin-Heparin Lock':'AMPICILLIN',\n",
    "\t 'Ampicillin-Sulbact Graded Challenge':'AMPICILLIN/SULBACTAM',\n",
    "\t 'Ampicillin-Sulbactam':'AMPICILLIN/SULBACTAM',\n",
    "\t 'CeFAZolin':'CEFAZOLIN',\n",
    "\t 'CeFAZolin Desensitization':'CEFAZOLIN',\n",
    "\t 'CeFAZolin Graded Challenge':'CEFAZOLIN',\n",
    "\t 'CefTAZidime':'CEFTAZIDIME', \n",
    "\t 'CefTAZidime 2mg/0.1mL':'CEFTAZIDIME', \n",
    "\t 'CefTAZidime Graded Challenge':'CEFTAZIDIME', \n",
    "\t 'CefTAZidime-Avibactam (Avycaz)':'CEFTAZIDIME', \n",
    "\t 'CefTAZidime-Heparin Lock':'CEFTAZIDIME', \n",
    "\t 'CefTRIAXone':'CEFTRIAXONE',\n",
    "\t 'CefTRIAXone Graded Challenge':'CEFTRIAXONE',\n",
    "\t 'CefazoLIN':'CEFAZOLIN',\n",
    "\t 'CefePIME':'CEFEPIME', \n",
    "\t 'Cefepime Desensitization':'CEFEPIME', \n",
    "\t 'Cefepime Graded Challenge':'CEFEPIME', \n",
    "\t 'CeftazIDIME':'CEFTAZIDIME', \n",
    "\t 'CeftriaXONE':'CEFTRIAXONE',\n",
    "\t 'CeftriaXONE Desensitization':'CEFTRIAXONE',\n",
    "\t 'Ciprofloxacin':'CIPROFLOXACIN',\n",
    "\t 'Ciprofloxacin 0.3% Ophth Soln':'CIPROFLOXACIN',\n",
    "\t 'Ciprofloxacin HCl':'CIPROFLOXACIN',\n",
    "\t 'Gentamicin':'GENTAMICIN',\n",
    "\t 'Gentamicin (L&D/OB)':'GENTAMICIN',\n",
    "\t 'Gentamicin - Dosing by pharmacy':'GENTAMICIN',\n",
    "\t 'Gentamicin 0.1% Cream':'GENTAMICIN',\n",
    "\t 'Gentamicin 0.3% Ophth. Ointment':'GENTAMICIN',\n",
    "\t 'Gentamicin 0.3% Ophth. Soln':'GENTAMICIN',\n",
    "\t 'Gentamicin 2.5 mg/mL in Sodium Citrate 4%':'GENTAMICIN',\n",
    "\t 'Gentamicin Intraperitoneal':'GENTAMICIN',\n",
    "\t 'Gentamicin Intraventricular':'GENTAMICIN',\n",
    "\t 'Gentamicin Sulf. Ophth. Soln':'GENTAMICIN',\n",
    "\t 'Gentamicin-Heparin Lock':'GENTAMICIN',\n",
    "\t 'MEROPENEM':'MEROPENEM', \n",
    "\t 'Meropenem':'MEROPENEM', \n",
    "\t 'Meropenem Desensitization':'MEROPENEM', \n",
    "\t 'Meropenem Graded Challenge':'MEROPENEM', \n",
    "\t 'Nitrofurantoin ':'NITROFURANTOIN',\n",
    "\t 'Nitrofurantoin (Macrodantin)':'NITROFURANTOIN',\n",
    "\t 'Nitrofurantoin Monohyd (MacroBID)':'NITROFURANTOIN',\n",
    "\t'Piperacillin-Tazo Graded Challenge':'PIPERACILLIN/TAZO',\n",
    "\t 'Piperacillin-Tazobactam':'PIPERACILLIN/TAZO',\n",
    "\t 'Piperacillin-Tazobactam Na':'PIPERACILLIN/TAZO',\n",
    "\t 'Piperacillin-Tazobactam-Heparin Lock':'PIPERACILLIN/TAZO',\n",
    "\t'Polymyxin B -Trimethoprim Ophth Soln':'TRIMETHOPRIM/SULFA',\n",
    "     'Polytrim (trimethoprim + polymyxin B)':'TRIMETHOPRIM/SULFA',\n",
    "     'Sulfameth/Trimethoprim':'TRIMETHOPRIM/SULFA',\n",
    "     'Sulfameth/Trimethoprim ':'TRIMETHOPRIM/SULFA',\n",
    "     'Sulfameth/Trimethoprim DS':'TRIMETHOPRIM/SULFA',\n",
    "     'Sulfameth/Trimethoprim SS':'TRIMETHOPRIM/SULFA',\n",
    "     'Sulfameth/Trimethoprim Suspension':'TRIMETHOPRIM/SULFA',\n",
    "     'Sulfamethoxazole-Trimethoprim':'TRIMETHOPRIM/SULFA',\n",
    "\t 'Tobramycin':'TOBRAMYCIN',\n",
    "\t 'Tobramycin - Dosing by pharmacy':'TOBRAMYCIN',\n",
    "\t 'Tobramycin 0.3% Ophth Ointment':'TOBRAMYCIN',\n",
    "\t 'Tobramycin 0.3% Ophth Soln':'TOBRAMYCIN',\n",
    "\t 'Tobramycin 2.5 mg/mL in Sodium Citrate 4%':'TOBRAMYCIN',\n",
    "\t 'Tobramycin Fortified Ophth. Soln.':'TOBRAMYCIN',\n",
    "\t 'Tobramycin Inhalation Soln':'TOBRAMYCIN',\n",
    "\t 'Tobramycin-Dexamethasone Ophth Oint':'TOBRAMYCIN',\n",
    "\t 'Tobramycin-Dexamethasone Ophth Susp':'TOBRAMYCIN',\n",
    "\t 'cefTAZidime':'CEFTAZIDIME', \n",
    "\t 'ceftazidime-avibactam':'CEFTAZIDIME', \n",
    "\t 'tobramycin in 0.225 % NaCl':'TOBRAMYCIN'\n",
    "\t}\n",
    "df_pharm['ab_name_pr'] = df_pharm.medication.map(ab_map)\n",
    "df_pharm.head()"
   ]
  },
  {
   "cell_type": "code",
   "execution_count": 139,
   "metadata": {},
   "outputs": [
    {
     "data": {
      "text/plain": [
       "<Axes: >"
      ]
     },
     "execution_count": 139,
     "metadata": {},
     "output_type": "execute_result"
    },
    {
     "data": {
      "image/png": "[encoded data removed]",
      "text/plain": [
       "<Figure size 640x480 with 1 Axes>"
      ]
     },
     "metadata": {},
     "output_type": "display_data"
    }
   ],
   "source": [
    "df_pharm.hours_to_prescribe.hist()"
   ]
  },
  {
   "cell_type": "code",
   "execution_count": 140,
   "metadata": {},
   "outputs": [
    {
     "data": {
      "text/plain": [
       "24.512189573341328"
      ]
     },
     "execution_count": 140,
     "metadata": {},
     "output_type": "execute_result"
    }
   ],
   "source": [
    "# average time to prescribe anitbiotic from chart time \n",
    "df_pharm.hours_to_prescribe.mean()"
   ]
  },
  {
   "cell_type": "code",
   "execution_count": 141,
   "metadata": {},
   "outputs": [
    {
     "data": {
      "text/plain": [
       "ab_name_pr\n",
       "AMPICILLIN             36.405\n",
       "AMPICILLIN/SULBACTAM   24.369\n",
       "CEFAZOLIN              24.478\n",
       "CEFEPIME               20.304\n",
       "CEFTAZIDIME            27.670\n",
       "CEFTRIAXONE            21.824\n",
       "CIPROFLOXACIN          28.159\n",
       "GENTAMICIN             25.275\n",
       "MEROPENEM              29.774\n",
       "NITROFURANTOIN         32.871\n",
       "PIPERACILLIN/TAZO      17.690\n",
       "TOBRAMYCIN             25.873\n",
       "TRIMETHOPRIM/SULFA     30.118\n",
       "Name: hours_to_prescribe, dtype: float64"
      ]
     },
     "execution_count": 141,
     "metadata": {},
     "output_type": "execute_result"
    }
   ],
   "source": [
    "df_pharm.groupby('ab_name_pr')['hours_to_prescribe'].mean()"
   ]
  },
  {
   "cell_type": "code",
   "execution_count": 142,
   "metadata": {},
   "outputs": [
    {
     "name": "stderr",
     "output_type": "stream",
     "text": [
      "/tmp/ipykernel_260/198233475.py:3: FutureWarning: A value is trying to be set on a copy of a DataFrame or Series through chained assignment using an inplace method.\n",
      "The behavior will change in pandas 3.0. This inplace method will never work because the intermediate object on which we are setting values always behaves as a copy.\n",
      "\n",
      "For example, when doing 'df[col].method(value, inplace=True)', try using 'df.method({col: value}, inplace=True)' or df[col] = df[col].method(value) instead, to perform the operation inplace on the original object.\n",
      "\n",
      "\n",
      "  df_pharm_final.ab_name_pr.fillna('OTHER', inplace=True)\n"
     ]
    },
    {
     "data": {
      "text/html": [
       "<div>\n",
       "<style scoped>\n",
       "    .dataframe tbody tr th:only-of-type {\n",
       "        vertical-align: middle;\n",
       "    }\n",
       "\n",
       "    .dataframe tbody tr th {\n",
       "        vertical-align: top;\n",
       "    }\n",
       "\n",
       "    .dataframe thead th {\n",
       "        text-align: right;\n",
       "    }\n",
       "</style>\n",
       "<table border=\"1\" class=\"dataframe\">\n",
       "  <thead>\n",
       "    <tr style=\"text-align: right;\">\n",
       "      <th></th>\n",
       "      <th>subject_id</th>\n",
       "      <th>charttime</th>\n",
       "      <th>medication</th>\n",
       "      <th>hours_to_prescribe</th>\n",
       "      <th>ab_name_pr</th>\n",
       "    </tr>\n",
       "  </thead>\n",
       "  <tbody>\n",
       "    <tr>\n",
       "      <th>0</th>\n",
       "      <td>10000826</td>\n",
       "      <td>2146-12-08 22:22:00</td>\n",
       "      <td>Ciprofloxacin HCl</td>\n",
       "      <td>11.162</td>\n",
       "      <td>CIPROFLOXACIN</td>\n",
       "    </tr>\n",
       "    <tr>\n",
       "      <th>1</th>\n",
       "      <td>10000898</td>\n",
       "      <td>2187-09-26 08:00:00</td>\n",
       "      <td>NaN</td>\n",
       "      <td>NaN</td>\n",
       "      <td>OTHER</td>\n",
       "    </tr>\n",
       "    <tr>\n",
       "      <th>2</th>\n",
       "      <td>10000980</td>\n",
       "      <td>2185-10-24 00:00:00</td>\n",
       "      <td>NaN</td>\n",
       "      <td>NaN</td>\n",
       "      <td>OTHER</td>\n",
       "    </tr>\n",
       "    <tr>\n",
       "      <th>3</th>\n",
       "      <td>10001122</td>\n",
       "      <td>2142-04-08 10:48:00</td>\n",
       "      <td>NaN</td>\n",
       "      <td>NaN</td>\n",
       "      <td>OTHER</td>\n",
       "    </tr>\n",
       "    <tr>\n",
       "      <th>4</th>\n",
       "      <td>10001401</td>\n",
       "      <td>2134-10-09 13:45:00</td>\n",
       "      <td>CefePIME</td>\n",
       "      <td>3.164</td>\n",
       "      <td>CEFEPIME</td>\n",
       "    </tr>\n",
       "  </tbody>\n",
       "</table>\n",
       "</div>"
      ],
      "text/plain": [
       "   subject_id           charttime         medication  hours_to_prescribe  \\\n",
       "0    10000826 2146-12-08 22:22:00  Ciprofloxacin HCl              11.162   \n",
       "1    10000898 2187-09-26 08:00:00                NaN                 NaN   \n",
       "2    10000980 2185-10-24 00:00:00                NaN                 NaN   \n",
       "3    10001122 2142-04-08 10:48:00                NaN                 NaN   \n",
       "4    10001401 2134-10-09 13:45:00           CefePIME               3.164   \n",
       "\n",
       "      ab_name_pr  \n",
       "0  CIPROFLOXACIN  \n",
       "1          OTHER  \n",
       "2          OTHER  \n",
       "3          OTHER  \n",
       "4       CEFEPIME  "
      ]
     },
     "execution_count": 142,
     "metadata": {},
     "output_type": "execute_result"
    }
   ],
   "source": [
    "# merge with df \n",
    "df_pharm_final = df.merge(df_pharm, on=['subject_id', 'charttime'], how='left')\n",
    "df_pharm_final.ab_name_pr.fillna('OTHER', inplace=True)\n",
    "df_pharm_final.head()"
   ]
  },
  {
   "cell_type": "code",
   "execution_count": 143,
   "metadata": {},
   "outputs": [
    {
     "name": "stdout",
     "output_type": "stream",
     "text": [
      "DataFrame successfully exported to s3://ml-stack-759578648427-us-west-2/MIMIC/Cleaned/df_final_antibiotic_prescribed.csv\n"
     ]
    }
   ],
   "source": [
    "s3_key = 'MIMIC/Cleaned/df_final_antibiotic_prescribed.csv'\n",
    "\n",
    "# Save the DataFrame to a CSV in memory (using StringIO)\n",
    "csv_buffer = StringIO()\n",
    "df_pharm.to_csv(csv_buffer, index=False)\n",
    "\n",
    "# Upload the CSV data to S3\n",
    "s3.put_object(Bucket=bucket_name, Key=s3_key, Body=csv_buffer.getvalue())\n",
    "\n",
    "print(f\"DataFrame successfully exported to s3://{bucket_name}/{s3_key}\")"
   ]
  }
 ],
 "metadata": {
  "colab": {
   "collapsed_sections": [
    "ikBekIuPaa1z",
    "MLoeDOoUmOHi",
    "bLpdWEr8zF1V",
    "99miS8vS42p4",
    "8-djcqUTzJfx"
   ],
   "provenance": []
  },
  "kernelspec": {
   "display_name": "Python 3 (ipykernel)",
   "language": "python",
   "name": "python3"
  },
  "language_info": {
   "codemirror_mode": {
    "name": "ipython",
    "version": 3
   },
   "file_extension": ".py",
   "mimetype": "text/x-python",
   "name": "python",
   "nbconvert_exporter": "python",
   "pygments_lexer": "ipython3",
   "version": "3.11.11"
  }
 },
 "nbformat": 4,
 "nbformat_minor": 0
}
