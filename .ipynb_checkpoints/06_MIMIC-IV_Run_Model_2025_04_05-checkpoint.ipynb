{
 "cells": [
  {
   "cell_type": "code",
   "execution_count": 1,
   "id": "22a42344-a1b9-484b-b6d1-6f32d7bd85cc",
   "metadata": {
    "scrolled": true
   },
   "outputs": [],
   "source": [
    "import os\n",
    "import glob\n",
    "import pandas as pd\n",
    "from tqdm import tqdm"
   ]
  },
  {
   "cell_type": "code",
   "execution_count": 2,
   "id": "6209c275-766d-4913-9b1c-37f1afd6e781",
   "metadata": {},
   "outputs": [],
   "source": [
    "pd.set_option('display.max_columns', None)\n",
    "pd.set_option('display.max_rows', None)"
   ]
  },
  {
   "cell_type": "markdown",
   "id": "2249a6a1-1259-43ba-b01b-51a3af108a9e",
   "metadata": {},
   "source": [
    "### Read Files"
   ]
  },
  {
   "cell_type": "code",
   "execution_count": 3,
   "id": "f74bea1a-2cf5-46d2-9c61-6f74bb793437",
   "metadata": {},
   "outputs": [],
   "source": [
    "app_df = pd.read_csv(\"../mimic-iv-3.1/app_df_2025_03_22.csv.gz\", compression=\"gzip\")"
   ]
  },
  {
   "cell_type": "code",
   "execution_count": 4,
   "id": "483ba5d6-6bea-4598-aa45-af8393a72653",
   "metadata": {},
   "outputs": [],
   "source": [
    "import pickle \n",
    "\n",
    "# Load the pickle file\n",
    "with open(\"../mimic-iv-3.1/rf_models_25_03_22.pkl\", \"rb\") as f:\n",
    "    trained_models = pickle.load(f)"
   ]
  },
  {
   "cell_type": "code",
   "execution_count": 5,
   "id": "70ffd4f6-7113-4627-87f2-c4668e5f64ec",
   "metadata": {},
   "outputs": [],
   "source": [
    "# Drop some columns that aren't modeled\n",
    "model_df = app_df.drop(columns=['Unnamed: 0','charttime'])"
   ]
  },
  {
   "cell_type": "code",
   "execution_count": 6,
   "id": "4ce400f2-f6d6-4be8-b603-409c35d90da2",
   "metadata": {},
   "outputs": [],
   "source": [
    "# set final bacteria-antibiotic pairs \n",
    "pairs = [('ESCHERICHIA COLI', 'AMPICILLIN'),\n",
    " ('ESCHERICHIA COLI', 'AMPICILLIN/SULBACTAM'),\n",
    " ('ESCHERICHIA COLI', 'CEFAZOLIN'),\n",
    " ('ESCHERICHIA COLI', 'CEFEPIME'),\n",
    " ('ESCHERICHIA COLI', 'CEFTAZIDIME'),\n",
    " ('ESCHERICHIA COLI', 'CEFTRIAXONE'),\n",
    " ('ESCHERICHIA COLI', 'CIPROFLOXACIN'),\n",
    " ('ESCHERICHIA COLI', 'GENTAMICIN'),\n",
    " ('ESCHERICHIA COLI', 'MEROPENEM'),\n",
    " ('ESCHERICHIA COLI', 'NITROFURANTOIN'),\n",
    " ('ESCHERICHIA COLI', 'TOBRAMYCIN'),\n",
    " ('ESCHERICHIA COLI', 'TRIMETHOPRIM/SULFA'),\n",
    " ('ESCHERICHIA COLI', 'PIPERACILLIN/TAZO'),\n",
    " ('PSEUDOMONAS AERUGINOSA', 'CEFEPIME'),\n",
    " ('PSEUDOMONAS AERUGINOSA', 'CEFTAZIDIME'),\n",
    " ('PSEUDOMONAS AERUGINOSA', 'CIPROFLOXACIN'),\n",
    " ('PSEUDOMONAS AERUGINOSA', 'GENTAMICIN'),\n",
    " ('PSEUDOMONAS AERUGINOSA', 'MEROPENEM'),\n",
    " ('PSEUDOMONAS AERUGINOSA', 'PIPERACILLIN/TAZO'),\n",
    " ('PSEUDOMONAS AERUGINOSA', 'TOBRAMYCIN'),\n",
    " ('KLEBSIELLA PNEUMONIAE', 'AMPICILLIN/SULBACTAM'),\n",
    " ('KLEBSIELLA PNEUMONIAE', 'CEFAZOLIN'),\n",
    " ('KLEBSIELLA PNEUMONIAE', 'CEFEPIME'),\n",
    " ('KLEBSIELLA PNEUMONIAE', 'CEFTAZIDIME'),\n",
    " ('KLEBSIELLA PNEUMONIAE', 'CEFTRIAXONE'),\n",
    " ('KLEBSIELLA PNEUMONIAE', 'CIPROFLOXACIN'),\n",
    " ('KLEBSIELLA PNEUMONIAE', 'GENTAMICIN'),\n",
    " ('KLEBSIELLA PNEUMONIAE', 'MEROPENEM'),\n",
    " ('KLEBSIELLA PNEUMONIAE', 'NITROFURANTOIN'),\n",
    " ('KLEBSIELLA PNEUMONIAE', 'PIPERACILLIN/TAZO'),\n",
    " ('KLEBSIELLA PNEUMONIAE', 'TOBRAMYCIN'),\n",
    " ('KLEBSIELLA PNEUMONIAE', 'TRIMETHOPRIM/SULFA')]"
   ]
  },
  {
   "cell_type": "markdown",
   "id": "875c17e2-51d6-457e-a54c-700fd5cb71d0",
   "metadata": {},
   "source": [
    "### Run Models and get Probabilities"
   ]
  },
  {
   "cell_type": "code",
   "execution_count": 7,
   "id": "1b48a05c-c558-4a6b-a878-a302986678c7",
   "metadata": {},
   "outputs": [
    {
     "data": {
      "text/plain": [
       "0    10002013.0\n",
       "1    10002557.0\n",
       "2    10002557.0\n",
       "3    10003400.0\n",
       "4    10003400.0\n",
       "Name: subject_id, dtype: float64"
      ]
     },
     "execution_count": 7,
     "metadata": {},
     "output_type": "execute_result"
    }
   ],
   "source": [
    "# Select a few subject_ids\n",
    "model_df['subject_id'].head()"
   ]
  },
  {
   "cell_type": "code",
   "execution_count": 8,
   "id": "450d6eb6-40f6-45d6-af77-99489a03ac6d",
   "metadata": {},
   "outputs": [],
   "source": [
    "subj1 = 10002013.0\n",
    "subj2 = 10002557.0\n",
    "subj3 = 10003400.0"
   ]
  },
  {
   "cell_type": "code",
   "execution_count": 9,
   "id": "0d31c2cd-0fd3-4e7d-9c2f-c59ec9544ba3",
   "metadata": {},
   "outputs": [],
   "source": [
    "def predict_antibiotic_probs(subject_id, bacteria_name, app_df, trained_models, pairs):\n",
    "    \"\"\"\n",
    "    Predicts antibiotic resistance probabilities for a given subject and bacteria.\n",
    "    \n",
    "    Parameters:\n",
    "    - subject_id (int): ID of the subject in app_df\n",
    "    - bacteria_name (str): Name of the bacteria (e.g., \"ESCHERICHIA COLI\")\n",
    "    - app_df (pd.DataFrame): DataFrame containing subject data\n",
    "    - trained_models (dict): Dictionary of trained models with keys like \"rf_BACTERIA_ANTIBIOTIC\"\n",
    "    - pairs (list): List of (bacteria, antibiotic) pairs\n",
    "    \n",
    "    Returns:\n",
    "    - dict: {antibiotic: probability_of_resistance}\n",
    "    \"\"\"\n",
    "    # Filter the relevant antibiotics for this bacteria\n",
    "    relevant_pairs = [antibiotic for bact, antibiotic in pairs if bact == bacteria_name]\n",
    "    \n",
    "    # Get the row for the subject\n",
    "    subject_row = app_df[app_df['subject_id'] == subject_id]\n",
    "    \n",
    "    if subject_row.empty:\n",
    "        raise ValueError(f\"No data found for subject_id {subject_id}\")\n",
    "    \n",
    "    # Drop the subject_id column to pass only feature columns to the model\n",
    "    subject_features = subject_row.drop(columns=['subject_id'])\n",
    "    \n",
    "    results = {}\n",
    "    \n",
    "    for antibiotic in relevant_pairs:\n",
    "        model_key = f\"rf_{bacteria_name}_{antibiotic}\"\n",
    "        model = trained_models.get(model_key)\n",
    "        \n",
    "        if model:\n",
    "            proba = model.predict_proba(subject_features)[0][1]  # probability of class 1 (resistant)\n",
    "            results[antibiotic] = proba\n",
    "        else:\n",
    "            results[antibiotic] = None  # Or you can skip this key or log a warning\n",
    "            \n",
    "    return results\n"
   ]
  },
  {
   "cell_type": "code",
   "execution_count": 10,
   "id": "1a660ba9-afed-47fd-86d2-c8930546b1ad",
   "metadata": {},
   "outputs": [
    {
     "data": {
      "text/plain": [
       "{'AMPICILLIN': 0.25733237547892723,\n",
       " 'AMPICILLIN/SULBACTAM': 0.4661553817254408,\n",
       " 'CEFAZOLIN': 0.7313697318763108,\n",
       " 'CEFEPIME': 0.8025651292413909,\n",
       " 'CEFTAZIDIME': 0.9255983751373836,\n",
       " 'CEFTRIAXONE': 0.8745250247215905,\n",
       " 'CIPROFLOXACIN': 0.7336086462988456,\n",
       " 'GENTAMICIN': 0.42087285319929213,\n",
       " 'MEROPENEM': 0.9990333770533246,\n",
       " 'NITROFURANTOIN': 0.9525936786340333,\n",
       " 'TOBRAMYCIN': 0.9081741712263035,\n",
       " 'TRIMETHOPRIM/SULFA': 0.3651066070298138,\n",
       " 'PIPERACILLIN/TAZO': 0.9755698624578442}"
      ]
     },
     "execution_count": 10,
     "metadata": {},
     "output_type": "execute_result"
    }
   ],
   "source": [
    "bacteria_name = \"ESCHERICHIA COLI\"\n",
    "\n",
    "predicted_probs = predict_antibiotic_probs(subj1, bacteria_name, model_df, trained_models, pairs)\n",
    "predicted_probs"
   ]
  },
  {
   "cell_type": "markdown",
   "id": "e625595f-a49d-4460-bb9c-0b5c975c86d2",
   "metadata": {},
   "source": [
    "### Get SHAP values"
   ]
  },
  {
   "cell_type": "code",
   "execution_count": 11,
   "id": "2b95d0ad-d54e-40d2-afea-7b200b2656f7",
   "metadata": {},
   "outputs": [],
   "source": [
    "def get_shap_values_for_model(subject_id, model_name, model_df, trained_models):\n",
    "    import shap\n",
    "    import numpy as np\n",
    "\n",
    "    model = trained_models.get(model_name)\n",
    "    if model is None:\n",
    "        raise ValueError(f\"Model '{model_name}' not found in trained_models.\")\n",
    "    \n",
    "    subject_row = model_df[model_df['subject_id'] == subject_id]\n",
    "    if subject_row.empty:\n",
    "        raise ValueError(f\"No data found for subject_id {subject_id}\")\n",
    "    \n",
    "    X_subject = subject_row.drop(columns=['subject_id'])\n",
    "\n",
    "    explainer = shap.TreeExplainer(model)\n",
    "    shap_values = explainer.shap_values(X_subject)\n",
    "\n",
    "    # shap_values shape: (1, num_features, 2) -> [sample, feature, class]\n",
    "    if isinstance(shap_values, np.ndarray) and shap_values.ndim == 3:\n",
    "        shap_row = shap_values[0, :, 1]  # first sample, class 1\n",
    "    else:\n",
    "        raise ValueError(f\"Unexpected SHAP output shape: {shap_values.shape}\")\n",
    "\n",
    "    feature_names = X_subject.columns.tolist()\n",
    "\n",
    "    if len(feature_names) != len(shap_row):\n",
    "        raise ValueError(f\"Feature count ({len(feature_names)}) and SHAP value count ({len(shap_row)}) do not match.\")\n",
    "\n",
    "    # Sort by importance (absolute value of SHAP)\n",
    "    sorted_shap = sorted(zip(feature_names, shap_row), key=lambda x: abs(x[1]), reverse=True)\n",
    "    return dict(sorted_shap)\n"
   ]
  },
  {
   "cell_type": "code",
   "execution_count": 12,
   "id": "93691c51-2846-434b-a450-c8b8e21a6aa2",
   "metadata": {},
   "outputs": [
    {
     "name": "stdout",
     "output_type": "stream",
     "text": [
      "SKN004: -0.0322\n",
      "M03BX: -0.0302\n",
      "N02BF: -0.0258\n",
      "EXT027: -0.0217\n",
      "CIR028: -0.0208\n",
      "J01CR: -0.0196\n",
      "C07AG: -0.0176\n",
      "MUS002: 0.0139\n",
      "CIR031: 0.0129\n",
      "Blood - Alkaline Phosphatase: 0.0114\n",
      "B01AB: 0.0113\n",
      "Blood - Hematocrit: -0.0109\n",
      "FAC015: -0.0105\n",
      "A07AA: 0.0103\n",
      "B05BA: 0.0099\n",
      "Blood - Hemoglobin: -0.0093\n",
      "B05AA: 0.0075\n",
      "J01EC: 0.0075\n",
      "N02AA: -0.0068\n",
      "Urine - Protein: 0.0064\n",
      "END005: -0.0064\n",
      "FAC009: -0.0062\n",
      "Blood - Asparate Aminotransferase (AST): -0.0059\n",
      "SKN003: -0.0057\n",
      "N02BA: -0.0057\n"
     ]
    }
   ],
   "source": [
    "shap_vals = get_shap_values_for_model(subj1, \"rf_ESCHERICHIA COLI_AMPICILLIN\", model_df, trained_models)\n",
    "\n",
    "# Print only top 25\n",
    "for feature, value in list(shap_vals.items())[:25]:\n",
    "    print(f\"{feature}: {value:.4f}\")\n"
   ]
  },
  {
   "cell_type": "markdown",
   "id": "c6437ae4-82ab-42ed-bbbc-81322587772c",
   "metadata": {},
   "source": [
    "### Get SHAP Values for all models for a selected bacteria"
   ]
  },
  {
   "cell_type": "code",
   "execution_count": 13,
   "id": "cab6a695-776b-49c6-a226-cc26dda78566",
   "metadata": {},
   "outputs": [],
   "source": [
    "def get_all_shap_values_for_subject(subject_id, bacteria_name, model_df, trained_models, pairs):\n",
    "    \"\"\"\n",
    "    Returns sorted SHAP values for all antibiotic models for a given subject and bacteria.\n",
    "\n",
    "    Parameters:\n",
    "    - subject_id (int): ID of the subject in model_df\n",
    "    - bacteria_name (str): Name of the bacteria\n",
    "    - model_df (pd.DataFrame): DataFrame containing model input features\n",
    "    - trained_models (dict): Dictionary of trained models\n",
    "    - pairs (list): List of (bacteria, antibiotic) pairs\n",
    "\n",
    "    Returns:\n",
    "    - dict: {antibiotic: {feature_name: shap_value}}, sorted by importance for each antibiotic\n",
    "    \"\"\"\n",
    "    relevant_antibiotics = [antibiotic for bact, antibiotic in pairs if bact == bacteria_name]\n",
    "    all_shap_results = {}\n",
    "\n",
    "    for antibiotic in relevant_antibiotics:\n",
    "        model_key = f\"rf_{bacteria_name}_{antibiotic}\"\n",
    "        model = trained_models.get(model_key)\n",
    "        if model:\n",
    "            try:\n",
    "                shap_dict = get_shap_values_for_model(subject_id, model_key, model_df, trained_models)\n",
    "                all_shap_results[antibiotic] = shap_dict\n",
    "            except Exception as e:\n",
    "                all_shap_results[antibiotic] = {\"error\": str(e)}\n",
    "        else:\n",
    "            all_shap_results[antibiotic] = None  # or {\"error\": \"Model not found\"}\n",
    "\n",
    "    return all_shap_results\n"
   ]
  },
  {
   "cell_type": "code",
   "execution_count": 14,
   "id": "a34fb0d6-6531-4778-8707-cdbb5a3cbe57",
   "metadata": {},
   "outputs": [],
   "source": [
    "shap_explanations_subj1 = get_all_shap_values_for_subject(\n",
    "    subject_id=subj1,\n",
    "    bacteria_name=\"ESCHERICHIA COLI\",\n",
    "    model_df=model_df,\n",
    "    trained_models=trained_models,\n",
    "    pairs=pairs\n",
    ")"
   ]
  },
  {
   "cell_type": "code",
   "execution_count": 15,
   "id": "19528e25-940f-4c22-ac6f-56acac17d382",
   "metadata": {
    "scrolled": true
   },
   "outputs": [],
   "source": [
    "# Print Top 5 SHAP Values for every antibiotic\n",
    "def print_top_shap_features(shap_explanations, top_n=5):\n",
    "    \"\"\"\n",
    "    Prints the top N SHAP features per antibiotic from a SHAP explanation dictionary.\n",
    "\n",
    "    Parameters:\n",
    "    - shap_explanations (dict): Output from get_all_shap_values_for_subject\n",
    "    - top_n (int): Number of top features to display per antibiotic\n",
    "    \"\"\"\n",
    "    for antibiotic, shap_dict in shap_explanations.items():\n",
    "        print(f\"\\nTop {top_n} features for {antibiotic}:\")\n",
    "        \n",
    "        if shap_dict is None:\n",
    "            print(\"  Model not found.\")\n",
    "            continue\n",
    "        if \"error\" in shap_dict:\n",
    "            print(f\"  Error: {shap_dict['error']}\")\n",
    "            continue\n",
    "\n",
    "        for feature, value in list(shap_dict.items())[:top_n]:\n",
    "            print(f\"  {feature}: {value:.4f}\")\n",
    "\n"
   ]
  },
  {
   "cell_type": "code",
   "execution_count": 16,
   "id": "afb5287d-cee6-42fe-9e99-83cc7fbe6c31",
   "metadata": {},
   "outputs": [
    {
     "name": "stdout",
     "output_type": "stream",
     "text": [
      "\n",
      "Top 5 features for AMPICILLIN:\n",
      "  SKN004: -0.0322\n",
      "  M03BX: -0.0302\n",
      "  N02BF: -0.0258\n",
      "  EXT027: -0.0217\n",
      "  CIR028: -0.0208\n",
      "\n",
      "Top 5 features for AMPICILLIN/SULBACTAM:\n",
      "  B01AB: -0.0072\n",
      "  EXT025: -0.0054\n",
      "  procedure_ct: -0.0052\n",
      "  C03CA: -0.0043\n",
      "  J01CR: -0.0042\n",
      "\n",
      "Top 5 features for CEFAZOLIN:\n",
      "  INF003: -0.0163\n",
      "  days_since_last_proc: 0.0158\n",
      "  N02BF: -0.0142\n",
      "  Blood - Hematocrit: 0.0121\n",
      "  Blood - RDW: 0.0115\n",
      "\n",
      "Top 5 features for CEFEPIME:\n",
      "  B05CX: -0.0340\n",
      "  J01DE: -0.0250\n",
      "  N01BB: -0.0214\n",
      "  days_since_last_proc: 0.0162\n",
      "  D01AA: -0.0157\n",
      "\n",
      "Top 5 features for CEFTAZIDIME:\n",
      "  days_since_last_proc: 0.0118\n",
      "  FAC015: -0.0109\n",
      "  P01AB: -0.0085\n",
      "  Blood - Hematocrit: 0.0085\n",
      "  N02BF: -0.0062\n",
      "\n",
      "Top 5 features for CEFTRIAXONE:\n",
      "  days_since_last_proc: 0.0163\n",
      "  Blood - Red Blood Cells: 0.0104\n",
      "  FAC015: -0.0099\n",
      "  Blood - Hemoglobin: 0.0095\n",
      "  Blood - Hematocrit: 0.0088\n",
      "\n",
      "Top 5 features for CIPROFLOXACIN:\n",
      "  Blood - RDW: 0.0228\n",
      "  days_since_last_proc: 0.0219\n",
      "  Blood - Hematocrit: 0.0165\n",
      "  Blood - Hemoglobin: 0.0135\n",
      "  procedure_ct: -0.0115\n",
      "\n",
      "Top 5 features for GENTAMICIN:\n",
      "  D07AC: -0.0278\n",
      "  MUS009: -0.0241\n",
      "  RSP011: -0.0222\n",
      "  CIR011: -0.0219\n",
      "  A10AE: -0.0204\n",
      "\n",
      "Top 5 features for MEROPENEM:\n",
      "  B01AD: 0.0008\n",
      "  INF003: -0.0006\n",
      "  EXT019: -0.0003\n",
      "  R03AL: -0.0002\n",
      "  Blood - Platelet Count: 0.0002\n",
      "\n",
      "Top 5 features for NITROFURANTOIN:\n",
      "  J01XD: -0.0066\n",
      "  N03AE: 0.0020\n",
      "  MUS007: -0.0019\n",
      "  Blood - PTT: 0.0018\n",
      "  B01AC: 0.0017\n",
      "\n",
      "Top 5 features for TOBRAMYCIN:\n",
      "  RSP008: -0.0243\n",
      "  days_since_last_proc: 0.0089\n",
      "  N02BF: -0.0066\n",
      "  J01MA: -0.0063\n",
      "  N02AA: -0.0057\n",
      "\n",
      "Top 5 features for TRIMETHOPRIM/SULFA:\n",
      "  RSP008: -0.0157\n",
      "  FAC015: -0.0148\n",
      "  A07AA: -0.0145\n",
      "  procedure_ct: -0.0145\n",
      "  PR_99: -0.0125\n",
      "\n",
      "Top 5 features for PIPERACILLIN/TAZO:\n",
      "  J01XD: -0.0021\n",
      "  days_since_last_proc: 0.0013\n",
      "  J01MA: -0.0012\n",
      "  Blood - Hemoglobin: 0.0011\n",
      "  FAC015: -0.0011\n"
     ]
    }
   ],
   "source": [
    "print_top_shap_features(shap_explanations_subj1, top_n=5)"
   ]
  },
  {
   "cell_type": "code",
   "execution_count": 17,
   "id": "07796fff-6270-4862-8a48-14ee88a019bb",
   "metadata": {},
   "outputs": [
    {
     "name": "stdout",
     "output_type": "stream",
     "text": [
      "SKN004: -0.0322\n",
      "M03BX: -0.0302\n",
      "N02BF: -0.0258\n",
      "EXT027: -0.0217\n",
      "CIR028: -0.0208\n",
      "J01CR: -0.0196\n",
      "C07AG: -0.0176\n",
      "MUS002: 0.0139\n",
      "CIR031: 0.0129\n",
      "Blood - Alkaline Phosphatase: 0.0114\n",
      "B01AB: 0.0113\n",
      "Blood - Hematocrit: -0.0109\n",
      "FAC015: -0.0105\n",
      "A07AA: 0.0103\n",
      "B05BA: 0.0099\n",
      "Blood - Hemoglobin: -0.0093\n",
      "B05AA: 0.0075\n",
      "J01EC: 0.0075\n",
      "N02AA: -0.0068\n",
      "Urine - Protein: 0.0064\n",
      "END005: -0.0064\n",
      "FAC009: -0.0062\n",
      "Blood - Asparate Aminotransferase (AST): -0.0059\n",
      "SKN003: -0.0057\n",
      "N02BA: -0.0057\n"
     ]
    }
   ],
   "source": [
    "# For a single antibiotic, access using shap_explanations_subj1['AMPICILLIN']\n",
    "\n",
    "# Print only top 25\n",
    "for feature, value in list(shap_explanations_subj1['AMPICILLIN'].items())[:25]:\n",
    "    print(f\"{feature}: {value:.4f}\")\n"
   ]
  },
  {
   "cell_type": "code",
   "execution_count": null,
   "id": "bc5a2f0d-2325-4f8b-920c-a33876269939",
   "metadata": {},
   "outputs": [],
   "source": []
  }
 ],
 "metadata": {
  "kernelspec": {
   "display_name": "Python 3 (ipykernel)",
   "language": "python",
   "name": "python3"
  },
  "language_info": {
   "codemirror_mode": {
    "name": "ipython",
    "version": 3
   },
   "file_extension": ".py",
   "mimetype": "text/x-python",
   "name": "python",
   "nbconvert_exporter": "python",
   "pygments_lexer": "ipython3",
   "version": "3.12.7"
  }
 },
 "nbformat": 4,
 "nbformat_minor": 5
}
